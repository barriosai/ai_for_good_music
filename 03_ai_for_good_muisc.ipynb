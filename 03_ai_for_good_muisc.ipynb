{
  "nbformat": 4,
  "nbformat_minor": 0,
  "metadata": {
    "colab": {
      "provenance": []
    },
    "kernelspec": {
      "name": "python3",
      "display_name": "Python 3"
    },
    "language_info": {
      "name": "python"
    }
  },
  "cells": [
    {
      "cell_type": "markdown",
      "source": [
        "# Video 03: Functions, Loops, and Chords"
      ],
      "metadata": {
        "id": "LD39xRjOnaxn"
      }
    },
    {
      "cell_type": "markdown",
      "source": [
        "# Goals\n",
        "\n",
        "\n",
        "*   Loop through Lists\n",
        "*   Define and Call a Function\n",
        "*   Use the input( ) method\n",
        "*   Leverage the enumerate( ) method"
      ],
      "metadata": {
        "id": "EhCTVsrmrp4U"
      }
    },
    {
      "cell_type": "markdown",
      "source": [
        "# Functions, Loops, and Chords"
      ],
      "metadata": {
        "id": "qAvlm25oqWOG"
      }
    },
    {
      "cell_type": "code",
      "source": [
        "# Building a C major chord and an A minor chord using conditional checks\n",
        "all_notes = [\"C\", \"D\", \"E\", \"F\", \"G\", \"A\", \"B\"]\n",
        "c_major_chord = [] # CEG = C major\n",
        "a_minor_chord = [] # ACE = A minor\n",
        "\n",
        "# Loop through each note in the list of all notes\n",
        "for note in all_notes:\n",
        "    if note in [\"C\", \"E\", \"G\"]:  # Check if the note belongs to the C major chord\n",
        "        c_major_chord.append(note)\n",
        "    elif note in [\"A\", \"C\", \"E\"]:  # Check if the note belongs to the A minor chord\n",
        "        a_minor_chord.append(note)"
      ],
      "metadata": {
        "id": "EnsE9QZ3dguV"
      },
      "execution_count": 21,
      "outputs": []
    },
    {
      "cell_type": "code",
      "source": [
        "c_major_chord, a_minor_chord"
      ],
      "metadata": {
        "id": "WhXS_89vJHSE",
        "colab": {
          "base_uri": "https://localhost:8080/"
        },
        "outputId": "30dea63b-7a95-40c3-c535-805444eef499"
      },
      "execution_count": 22,
      "outputs": [
        {
          "output_type": "execute_result",
          "data": {
            "text/plain": [
              "(['C', 'E', 'G'], ['A'])"
            ]
          },
          "metadata": {},
          "execution_count": 22
        }
      ]
    },
    {
      "cell_type": "markdown",
      "source": [
        "## 5. Functions in Python\n",
        "Functions in Python allow us to encapsulate code for reuse. Let's write a function to create a scale and another to build a chord, demonstrating how we can reuse these musical structures."
      ],
      "metadata": {
        "id": "2vVfP5cGRnWc"
      }
    },
    {
      "cell_type": "code",
      "source": [
        "# Create function named create_scale\n",
        "def create_scale(root_note):\n",
        "  return [root_note, 'D', 'E', 'F', 'G', 'A', 'B']"
      ],
      "metadata": {
        "id": "QoL4nxfzRoca"
      },
      "execution_count": 23,
      "outputs": []
    },
    {
      "cell_type": "code",
      "source": [
        "create_scale('C')"
      ],
      "metadata": {
        "id": "gOPh3p18k9Mh",
        "colab": {
          "base_uri": "https://localhost:8080/"
        },
        "outputId": "9e40d190-500d-4578-d047-a755ebb08a5e"
      },
      "execution_count": 24,
      "outputs": [
        {
          "output_type": "execute_result",
          "data": {
            "text/plain": [
              "['C', 'D', 'E', 'F', 'G', 'A', 'B']"
            ]
          },
          "metadata": {},
          "execution_count": 24
        }
      ]
    },
    {
      "cell_type": "markdown",
      "source": [
        "The `input()` methods is a great learning tool and also fun to use. Let's try it out."
      ],
      "metadata": {
        "id": "aTfvBUQrlb_h"
      }
    },
    {
      "cell_type": "code",
      "source": [
        "# Create function named create_scale\n",
        "def make_scale():\n",
        "  root_note = input(\"Enter root note: \")\n",
        "  return [root_note, 'D', 'E', 'F', 'G', 'A', 'B']"
      ],
      "metadata": {
        "id": "0c71aC2xk6aq"
      },
      "execution_count": 25,
      "outputs": []
    },
    {
      "cell_type": "code",
      "source": [
        "make_scale()"
      ],
      "metadata": {
        "id": "CMFD1GAm89yN",
        "colab": {
          "base_uri": "https://localhost:8080/"
        },
        "outputId": "6a975be9-9ac8-42fd-9895-6d658fc97804"
      },
      "execution_count": 26,
      "outputs": [
        {
          "name": "stdout",
          "output_type": "stream",
          "text": [
            "Enter root note: C\n"
          ]
        },
        {
          "output_type": "execute_result",
          "data": {
            "text/plain": [
              "['C', 'D', 'E', 'F', 'G', 'A', 'B']"
            ]
          },
          "metadata": {},
          "execution_count": 26
        }
      ]
    },
    {
      "cell_type": "code",
      "source": [
        "# Create function named build_chord\n",
        "def build_chord():\n",
        "  root_note = input(\"Enter root note: \")\n",
        "  return [root_note, 'E', 'G']"
      ],
      "metadata": {
        "id": "GTuxAHgA863C"
      },
      "execution_count": 27,
      "outputs": []
    },
    {
      "cell_type": "code",
      "source": [
        "build_chord()"
      ],
      "metadata": {
        "id": "dnrTyyO98-wP",
        "colab": {
          "base_uri": "https://localhost:8080/"
        },
        "outputId": "5ac7ec74-0454-4c62-972a-40764ca987f8"
      },
      "execution_count": 28,
      "outputs": [
        {
          "name": "stdout",
          "output_type": "stream",
          "text": [
            "Enter root note: C\n"
          ]
        },
        {
          "output_type": "execute_result",
          "data": {
            "text/plain": [
              "['C', 'E', 'G']"
            ]
          },
          "metadata": {},
          "execution_count": 28
        }
      ]
    },
    {
      "cell_type": "markdown",
      "source": [
        "# Writting DRY Functions\n",
        "\n",
        "Instead of calculating something over and over, manually, you can simple write a function to reuse code by recalling the name of the function you wrote!"
      ],
      "metadata": {
        "id": "Vwx24B3ykr9p"
      }
    },
    {
      "cell_type": "code",
      "source": [
        "notes_list = ['C', 'D', 'E', 'F', 'G', 'A', 'B']"
      ],
      "metadata": {
        "id": "Z0KZfo8jJGNl"
      },
      "execution_count": 29,
      "outputs": []
    },
    {
      "cell_type": "code",
      "source": [
        "# No\n",
        "notes_list[0],\n",
        "notes_list[1],\n",
        "notes_list[2],\n",
        "notes_list[3],\n",
        "notes_list[4],\n",
        "notes_list[5],\n",
        "notes_list[6]\n"
      ],
      "metadata": {
        "id": "rDFgBxcMkw8v",
        "colab": {
          "base_uri": "https://localhost:8080/"
        },
        "outputId": "2c1149e6-fbf0-40d2-93b0-30031da00cbf"
      },
      "execution_count": 32,
      "outputs": [
        {
          "output_type": "execute_result",
          "data": {
            "text/plain": [
              "('C', 'D', 'E', 'F', 'G', 'A', 'B')"
            ]
          },
          "metadata": {},
          "execution_count": 32
        }
      ]
    },
    {
      "cell_type": "markdown",
      "source": [
        "### Use Loops and Functions"
      ],
      "metadata": {
        "id": "AEDtl5Yk-Qzr"
      }
    },
    {
      "cell_type": "code",
      "source": [
        "# loop through each note in notes_list\n",
        "for note in notes_list:\n",
        "  print(note)"
      ],
      "metadata": {
        "colab": {
          "base_uri": "https://localhost:8080/"
        },
        "id": "uGob9SY0lagT",
        "outputId": "f6ff356b-edd6-4057-9f27-734492010d48"
      },
      "execution_count": 33,
      "outputs": [
        {
          "output_type": "stream",
          "name": "stdout",
          "text": [
            "C\n",
            "D\n",
            "E\n",
            "F\n",
            "G\n",
            "A\n",
            "B\n"
          ]
        }
      ]
    },
    {
      "cell_type": "code",
      "source": [
        "# to avoid writing a loop over and over for different scales, write a function\n",
        "def note_function(scale):\n",
        "  for index, note in enumerate(scale, start=1):\n",
        "    print(note, index)"
      ],
      "metadata": {
        "id": "RmyFRnlfl35N"
      },
      "execution_count": 34,
      "outputs": []
    },
    {
      "cell_type": "code",
      "source": [
        "# call the function and pass in a list of notes (scale)\n",
        "note_function(notes_list)"
      ],
      "metadata": {
        "id": "KYCzB-yemJQd",
        "colab": {
          "base_uri": "https://localhost:8080/"
        },
        "outputId": "63b93655-617d-4034-eb9d-4069c167ce44"
      },
      "execution_count": 35,
      "outputs": [
        {
          "output_type": "stream",
          "name": "stdout",
          "text": [
            "C 1\n",
            "D 2\n",
            "E 3\n",
            "F 4\n",
            "G 5\n",
            "A 6\n",
            "B 7\n"
          ]
        }
      ]
    },
    {
      "cell_type": "code",
      "source": [
        "# The enumerate function in Python is a built-in function\n",
        "# that adds a counter to an iterable and returns it as an\n",
        "# enumerate object. This object can then be used directly\n",
        "# in for-loops or be converted into a list of tuples containing\n",
        "# (index, element) pairs."
      ],
      "metadata": {
        "id": "45_7UBX6-if2"
      },
      "execution_count": null,
      "outputs": []
    },
    {
      "cell_type": "markdown",
      "source": [
        "# Review\n",
        "\n",
        "\n",
        "* Looped through Lists\n",
        "* Defined and Called Functions\n",
        "* Use the input( ) method\n",
        "* Leveraged the enumerate( ) method\n",
        "\n",
        "\n",
        "## Next Week:\n",
        "Build Python apps! You'll learn how to build a music application using colab, python, and your coding skills."
      ],
      "metadata": {
        "id": "4ECtoTgLNTTs"
      }
    },
    {
      "cell_type": "markdown",
      "source": [
        "\n",
        "\n",
        "---\n",
        "\n"
      ],
      "metadata": {
        "id": "DybZ9WgGNQ8q"
      }
    }
  ]
}
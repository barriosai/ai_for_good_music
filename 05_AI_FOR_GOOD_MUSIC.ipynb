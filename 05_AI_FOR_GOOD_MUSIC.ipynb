{
  "nbformat": 4,
  "nbformat_minor": 0,
  "metadata": {
    "colab": {
      "provenance": []
    },
    "kernelspec": {
      "name": "python3",
      "display_name": "Python 3"
    },
    "language_info": {
      "name": "python"
    }
  },
  "cells": [
    {
      "cell_type": "markdown",
      "source": [
        "# Video 05: Python Instrument Simulators"
      ],
      "metadata": {
        "id": "LD39xRjOnaxn"
      }
    },
    {
      "cell_type": "markdown",
      "source": [
        "# Goals\n",
        "\n",
        "*   Mini Piano Simulator\n",
        "*   Mini Guitar Simulator"
      ],
      "metadata": {
        "id": "EhCTVsrmrp4U"
      }
    },
    {
      "cell_type": "markdown",
      "source": [
        "## Mini Piano Sim"
      ],
      "metadata": {
        "id": "za-tbe1KwKdN"
      }
    },
    {
      "cell_type": "code",
      "source": [
        "def play_piano():\n",
        "    \"\"\"Simulates a mini piano where the user can play notes from C to B.\"\"\"\n",
        "    notes_to_frequencies = {\n",
        "        'C': 261.63,\n",
        "        'D': 293.66,\n",
        "        'E': 329.63,\n",
        "        'F': 349.23,\n",
        "        'G': 392.00,\n",
        "        'A': 440.00,\n",
        "        'B': 493.88\n",
        "    }\n",
        "\n",
        "    print(\"Welcome to the Mini Piano Simulator!\")\n",
        "    print(\"Available notes: C, D, E, F, G, A, B (Type 'exit' to stop playing)\")\n",
        "\n",
        "    while True:\n",
        "        note = input(\"Enter a note to play: \").upper()\n",
        "        if note == 'EXIT':\n",
        "            print(\"Thanks for playing the Mini Piano!\")\n",
        "            break\n",
        "        elif note in notes_to_frequencies:\n",
        "            frequency = notes_to_frequencies[note]\n",
        "            print(f\"Playing note {note} at frequency {frequency} Hz.\")\n",
        "        else:\n",
        "            print(\"Invalid note. Please enter a note from C to B.\")\n"
      ],
      "metadata": {
        "id": "GcS0IWERJPHD"
      },
      "execution_count": 4,
      "outputs": []
    },
    {
      "cell_type": "code",
      "source": [
        "play_piano()"
      ],
      "metadata": {
        "colab": {
          "base_uri": "https://localhost:8080/"
        },
        "id": "hyIl911CJk8r",
        "outputId": "32abe81e-8eb8-44bf-9a62-009d74576a8b"
      },
      "execution_count": 5,
      "outputs": [
        {
          "output_type": "stream",
          "name": "stdout",
          "text": [
            "Welcome to the Mini Piano Simulator!\n",
            "Available notes: C, D, E, F, G, A, B (Type 'exit' to stop playing)\n",
            "Enter a note to play: E\n",
            "Playing note E at frequency 329.63 Hz.\n",
            "Enter a note to play: F\n",
            "Playing note F at frequency 349.23 Hz.\n",
            "Enter a note to play: f\n",
            "Playing note F at frequency 349.23 Hz.\n",
            "Enter a note to play: exit\n",
            "Thanks for playing the Mini Piano!\n"
          ]
        }
      ]
    },
    {
      "cell_type": "code",
      "source": [],
      "metadata": {
        "id": "pbwHjl8Ty0dB"
      },
      "execution_count": null,
      "outputs": []
    },
    {
      "cell_type": "markdown",
      "source": [
        "## Mini Guitar Sim\n",
        "Boolean values represent truth values - either True or False.\n",
        "\n"
      ],
      "metadata": {
        "id": "m1MmMlqlPQcz"
      }
    },
    {
      "cell_type": "code",
      "source": [
        "def play_guitar():\n",
        "    \"\"\"Simulates a mini guitar where the user can play notes from a standard six-string guitar tuning.\"\"\"\n",
        "    strings_to_frequencies = {\n",
        "        'e': 82.41,\n",
        "        'a': 110.00,\n",
        "        'd': 146.83,\n",
        "        'g': 196.00,\n",
        "        'b': 246.94,\n",
        "        'little e': 329.63\n",
        "    }\n",
        "\n",
        "    print(\"Welcome to the Mini Guitar Simulator!\")\n",
        "    print(\"Available strings: E, A, D, G, B, Little E (Type 'exit' to stop playing)\")\n",
        "\n",
        "        while True:\n",
        "        note = # Ask user to input in upper case\n",
        "        if # check if input is EXIT\n",
        "            # If true, print: \"Thanks for playing the Mini Guitar!\"\n",
        "            # break out of loop\n",
        "        elif # check if note is in notes_to_frequencies\n",
        "            frequency = # pass bote into notes_to_frequency\n",
        "            # print \"Playing note {note} at frequency {frequency} Hz.\"\n",
        "        else:\n",
        "            # print \"Invalid note. Please enter a note from C to B.\"\n"
      ],
      "metadata": {
        "id": "jVfMm1Tsup4I"
      },
      "execution_count": null,
      "outputs": []
    },
    {
      "cell_type": "markdown",
      "source": [
        "# Solution"
      ],
      "metadata": {
        "id": "qQrrMQmuwhHD"
      }
    },
    {
      "cell_type": "code",
      "source": [
        "def play_guitar():\n",
        "    \"\"\"Simulates a mini guitar where the user can play notes from a standard six-string guitar tuning.\"\"\"\n",
        "    strings_to_frequencies = {\n",
        "        'e': 82.41,\n",
        "        'a': 110.00,\n",
        "        'd': 146.83,\n",
        "        'g': 196.00,\n",
        "        'b': 246.94,\n",
        "        'little e': 329.63\n",
        "    }\n",
        "\n",
        "    print(\"Welcome to the Mini Guitar Simulator!\")\n",
        "    print(\"Available strings: E, A, D, G, B, Little E (Type 'exit' to stop playing)\")\n",
        "\n",
        "    while True:\n",
        "        string = input(\"Enter a string to play: \").lower()  # convert input to lowercase\n",
        "        if string == 'exit':\n",
        "            print(\"Thanks for playing the Mini Guitar!\")\n",
        "            break\n",
        "        elif string in strings_to_frequencies:\n",
        "            frequency = strings_to_frequencies[string]\n",
        "            print(f\"Playing string {string.capitalize()} at frequency {frequency} Hz.\")\n",
        "        else:\n",
        "            print(\"Invalid string. Please enter one of the available strings (E, A, D, G, B, or Little E).\")\n",
        "\n"
      ],
      "metadata": {
        "id": "vRePyD_wwgCl"
      },
      "execution_count": null,
      "outputs": []
    },
    {
      "cell_type": "code",
      "source": [
        "play_guitar()"
      ],
      "metadata": {
        "colab": {
          "base_uri": "https://localhost:8080/"
        },
        "id": "brvgnk7wRERo",
        "outputId": "76d96eb6-4054-4d3a-b794-e24a0e8eb891"
      },
      "execution_count": null,
      "outputs": [
        {
          "output_type": "stream",
          "name": "stdout",
          "text": [
            "Welcome to the Mini Guitar Simulator!\n",
            "Available strings: E, A, D, G, B, Little E (Type 'exit' to stop playing)\n",
            "Enter a string to play: Little E\n",
            "Playing string Little e at frequency 329.63 Hz.\n",
            "Enter a string to play: E\n",
            "Playing string E at frequency 82.41 Hz.\n",
            "Enter a string to play: exit\n",
            "Thanks for playing the Mini Guitar!\n"
          ]
        }
      ]
    },
    {
      "cell_type": "markdown",
      "source": [
        "# Review\n",
        "\n",
        "*   Coded Mini Piano Simulator\n",
        "*   Coded Mini Guitar Simulator"
      ],
      "metadata": {
        "id": "6gJi1rAE7Nev"
      }
    },
    {
      "cell_type": "markdown",
      "source": [
        "\n",
        "\n",
        "\n",
        "## Next Week:\n",
        "Coninue your AI Musicianship journey with Python music analysis!"
      ],
      "metadata": {
        "id": "4ECtoTgLNTTs"
      }
    },
    {
      "cell_type": "markdown",
      "source": [
        "\n",
        "\n",
        "---\n",
        "\n"
      ],
      "metadata": {
        "id": "DybZ9WgGNQ8q"
      }
    }
  ]
}
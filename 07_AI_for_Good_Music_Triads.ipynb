{
  "nbformat": 4,
  "nbformat_minor": 0,
  "metadata": {
    "colab": {
      "provenance": []
    },
    "kernelspec": {
      "name": "python3",
      "display_name": "Python 3"
    },
    "language_info": {
      "name": "python"
    }
  },
  "cells": [
    {
      "cell_type": "code",
      "source": [
        "import random\n",
        "\n",
        "# Define all major triads\n",
        "major_triads = {\n",
        "    'C': ['C', 'E', 'G'],\n",
        "    'C#': ['C#', 'E#', 'G#'],\n",
        "    'Db': ['Db', 'F', 'Ab'],\n",
        "    'D': ['D', 'F#', 'A'],\n",
        "    'D#': ['D#', 'Fx', 'A#'],  # Fx is F double sharp\n",
        "    'Eb': ['Eb', 'G', 'Bb'],\n",
        "    'E': ['E', 'G#', 'B'],\n",
        "    'F': ['F', 'A', 'C'],\n",
        "    'F#': ['F#', 'A#', 'C#'],\n",
        "    'Gb': ['Gb', 'Bb', 'Db'],\n",
        "    'G': ['G', 'B', 'D'],\n",
        "    'G#': ['G#', 'B#', 'D#'],\n",
        "    'Ab': ['Ab', 'C', 'Eb'],\n",
        "    'A': ['A', 'C#', 'E'],\n",
        "    'A#': ['A#', 'Cx', 'E#'],  # Cx is C double sharp\n",
        "    'Bb': ['Bb', 'D', 'F'],\n",
        "    'B': ['B', 'D#', 'F#']\n",
        "}\n",
        "\n",
        "def quiz_major_triads():\n",
        "    print(\"Welcome to the Major Triads Quiz!\")\n",
        "    print(\"You will be asked to enter the notes in various major triads.\")\n",
        "    print(\"Please enter the notes separated by commas and spaces (e.g., C, E, G).\")\n",
        "\n",
        "    # Convert the keys to a list\n",
        "    keys = list(major_triads.keys())\n",
        "\n",
        "    correct_answers = 0\n",
        "    total_questions = 0\n",
        "\n",
        "    while True:\n",
        "        # Shuffle the keys for random order\n",
        "        random.shuffle(keys)\n",
        "\n",
        "        for key in keys:\n",
        "          answer = input(f\"What are the notes in the {key} major triad? \").split(',')\n",
        "          answer = [note.strip() for note in answer]\n",
        "\n",
        "          if answer == major_triads[key]:\n",
        "            print(\"Correct!\")\n",
        "            correct_answers += 1\n",
        "          else:\n",
        "            correct_order = ', '.join(major_triads[key])\n",
        "            print(f\"Incorect. The correct notes are {correct_order}\")\n",
        "\n",
        "          total_questions += 1\n",
        "\n",
        "          continue_quiz = input(\"Want to continue? (yes/no): \").strip().lower()\n",
        "          if continue_quiz != 'yes':\n",
        "            print(f\"You got {correct_answers} out of {total_questions} correct.\")\n",
        "            return\n",
        "\n",
        "\n",
        "# Start the quiz\n",
        "quiz_major_triads()\n"
      ],
      "metadata": {
        "colab": {
          "base_uri": "https://localhost:8080/"
        },
        "id": "SeBBwVL1-tDQ",
        "outputId": "159d79eb-da7f-475b-cbc4-9f0dd1ac6066"
      },
      "execution_count": 2,
      "outputs": [
        {
          "output_type": "stream",
          "name": "stdout",
          "text": [
            "Welcome to the Major Triads Quiz!\n",
            "You will be asked to enter the notes in various major triads.\n",
            "Please enter the notes separated by commas and spaces (e.g., C, E, G).\n",
            "What are the notes in the Ab major triad? Ab, C, Eb\n",
            "Correct!\n",
            "Want to continue? (yes/no): yes\n",
            "What are the notes in the C# major triad? C#, E#, G#\n",
            "Correct!\n",
            "Want to continue? (yes/no): yes\n",
            "What are the notes in the D# major triad? DFS\n",
            "Incorect. The correct notes are D#, Fx, A#\n",
            "Want to continue? (yes/no): no\n",
            "You got 2 out of 3 correct.\n"
          ]
        }
      ]
    },
    {
      "cell_type": "code",
      "source": [],
      "metadata": {
        "id": "wT2kteSiNKBc"
      },
      "execution_count": null,
      "outputs": []
    }
  ]
}
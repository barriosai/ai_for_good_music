{
  "nbformat": 4,
  "nbformat_minor": 0,
  "metadata": {
    "colab": {
      "provenance": []
    },
    "kernelspec": {
      "name": "python3",
      "display_name": "Python 3"
    },
    "language_info": {
      "name": "python"
    }
  },
  "cells": [
    {
      "cell_type": "markdown",
      "source": [
        "# Video 04: Python Music Applications"
      ],
      "metadata": {
        "id": "LD39xRjOnaxn"
      }
    },
    {
      "cell_type": "markdown",
      "source": [
        "# Goals\n",
        "\n",
        "\n",
        "*   Build Music Generator\n",
        "*   Build Music Theory Quiz Game"
      ],
      "metadata": {
        "id": "EhCTVsrmrp4U"
      }
    },
    {
      "cell_type": "markdown",
      "source": [
        "### Build Music Generator"
      ],
      "metadata": {
        "id": "LFuveFy2T1Tq"
      }
    },
    {
      "cell_type": "code",
      "source": [
        "import random\n",
        "\n",
        "def generate_melody(scale, length):\n",
        "  piece = [] # init\n",
        "  for _ in range(length):\n",
        "    note = random.choice(scale)\n",
        "    piece.append(note)\n",
        "  return \" \".join(piece)"
      ],
      "metadata": {
        "id": "EmFYBVgsTz8b"
      },
      "execution_count": 1,
      "outputs": []
    },
    {
      "cell_type": "code",
      "source": [
        "scale = ['C', 'D', 'E', 'F', 'G', 'A', 'B']\n",
        "generate_melody(scale, 4)"
      ],
      "metadata": {
        "colab": {
          "base_uri": "https://localhost:8080/",
          "height": 36
        },
        "id": "pbhB4oVPpgEo",
        "outputId": "f70e3b58-c5b5-495a-c22a-885494477ce6"
      },
      "execution_count": 2,
      "outputs": [
        {
          "output_type": "execute_result",
          "data": {
            "text/plain": [
              "'A E E C'"
            ],
            "application/vnd.google.colaboratory.intrinsic+json": {
              "type": "string"
            }
          },
          "metadata": {},
          "execution_count": 2
        }
      ]
    },
    {
      "cell_type": "markdown",
      "source": [
        "### Build Music Theory Quiz Game\n",
        "Using everything you've learned so far, crate a music quiz game! Just give it a try and check out my solution video of my music quiz game. Good luck!"
      ],
      "metadata": {
        "id": "lIr2OH4zDDzN"
      }
    },
    {
      "cell_type": "code",
      "source": [
        "import random\n",
        "\n",
        "notes = ['C', 'D', 'E', 'F', 'G', 'A', 'B']\n",
        "playing = True\n",
        "\n",
        "while playing:\n",
        "  n = random.randint(1, 7) # choose a random positioin in the scale\n",
        "  answer = input(f\"Which letter corresponds to note number {n} in the C major scale?\").strip().upper()\n",
        "\n",
        "  if answer == notes[n-1]:\n",
        "    print(\"Correct! Well done!! 👍\")\n",
        "  else:\n",
        "    print(f\"Try again! The noe was {notes[n-1]}\")\n",
        "\n",
        "  # Ask if player wants to play again\n",
        "  play_again = input(\"Do you want to play again? (yes/no)\").strip().lower()\n",
        "  if play_again != 'yes':\n",
        "    print(\"Come back soon!\")\n",
        "    playing = False\n"
      ],
      "metadata": {
        "colab": {
          "base_uri": "https://localhost:8080/"
        },
        "id": "SouAs1JaCgbI",
        "outputId": "d926fee9-1a2a-4aee-95e8-7794044e4d5a"
      },
      "execution_count": 3,
      "outputs": [
        {
          "output_type": "stream",
          "name": "stdout",
          "text": [
            "Which letter corresponds to note number 1 in the C major scale?C\n",
            "Correct! Well done!! 👍\n",
            "Do you want to play again? (yes/no)no\n",
            "Come back soon!\n"
          ]
        }
      ]
    },
    {
      "cell_type": "markdown",
      "source": [
        "# Review\n",
        "\n",
        "\n",
        "*   Built Music Generator\n",
        "*   Built Music Theory Quiz Game"
      ],
      "metadata": {
        "id": "6gJi1rAE7Nev"
      }
    },
    {
      "cell_type": "markdown",
      "source": [
        "\n",
        "\n",
        "\n",
        "## Next Week:\n",
        "Coninue your AI Musicianship journey with Python Instrument Simulators!!"
      ],
      "metadata": {
        "id": "4ECtoTgLNTTs"
      }
    },
    {
      "cell_type": "markdown",
      "source": [
        "\n",
        "\n",
        "---\n",
        "\n"
      ],
      "metadata": {
        "id": "DybZ9WgGNQ8q"
      }
    }
  ]
}
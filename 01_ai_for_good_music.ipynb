{
  "nbformat": 4,
  "nbformat_minor": 0,
  "metadata": {
    "colab": {
      "provenance": []
    },
    "kernelspec": {
      "name": "python3",
      "display_name": "Python 3"
    },
    "language_info": {
      "name": "python"
    }
  },
  "cells": [
    {
      "cell_type": "markdown",
      "source": [
        "# What is AI for Good Music?\n",
        "\n",
        "The goal is to bridge the gap between music, programming, and AI. No prior knowledge in any of these areas is required. All you need is a strong deisre to learn, and a Gmail account. That's it.\n",
        "\n",
        "\n",
        "## Who is this for??\n",
        "\n",
        "1. **Programmers Interested in Music**: If you know how to code but want to learn music theory, this video will help bridge that gap.\n",
        "\n",
        "2. **Musicians Who Want to Learn Programming**: For those with a music background interested in learning programming and AI, this content is tailored for you.\n",
        "\n",
        "3. **Complete Beginners**: If you're starting from scratch with no knowledge of programming or music, this video is designed to introduce both subjects in an accessible way.\n",
        "\n",
        "The ultimate goal here is to help usher in a new kind of engineer: the AI Musician. Let's do this!\n"
      ],
      "metadata": {
        "id": "B6hcGKTcgsZR"
      }
    },
    {
      "cell_type": "markdown",
      "source": [
        "# What is Python?\n",
        "\n",
        "Welcome to the fascinating world of Python, where coding meets creativity. Python is a versatile programming language, ideal for beginners and professionals alike. In less about two minutes, we'll install Python, set up our environment, and write our first script that prints \"Hello, AI World!\". To do so, we'll need to use an online notebook, called Colab, by Google. After that, all you need to get started is a free Gmail account.\n"
      ],
      "metadata": {
        "id": "xhdxlyyIqCek"
      }
    },
    {
      "cell_type": "markdown",
      "source": [
        "## What is Colab?\n",
        "\n",
        "Google Colab is like an online magic notebook where you write and run Python code right in your web browser and you don't need to download anything to use it.\n",
        "\n",
        "The takeaway here is that using Google Colab is much simpler and faster to get started with programming, especially if you're looking to dive straight into experimenting with Python and AI without the traditional setup hassles.\n"
      ],
      "metadata": {
        "id": "-MBr8m-Yr_1F"
      }
    },
    {
      "cell_type": "code",
      "source": [
        "# This is a comment"
      ],
      "metadata": {
        "id": "nczYgh4dCcdA"
      },
      "execution_count": null,
      "outputs": []
    },
    {
      "cell_type": "code",
      "source": [
        "# This is a comment\n",
        "print(\"Hello, AI world!\")"
      ],
      "metadata": {
        "id": "cHTfhv_GwJNs",
        "colab": {
          "base_uri": "https://localhost:8080/"
        },
        "outputId": "3e3698f7-1ac0-491a-8762-8727bdc5a8da"
      },
      "execution_count": null,
      "outputs": [
        {
          "output_type": "stream",
          "name": "stdout",
          "text": [
            "Hello, AI world!\n"
          ]
        }
      ]
    },
    {
      "cell_type": "code",
      "source": [
        "# What version of Python?\n",
        "!python --version"
      ],
      "metadata": {
        "colab": {
          "base_uri": "https://localhost:8080/"
        },
        "id": "sLOJ72IsqBh5",
        "outputId": "98b11adf-a7e5-4bf0-dd0d-68c4826d0768"
      },
      "execution_count": null,
      "outputs": [
        {
          "output_type": "stream",
          "name": "stdout",
          "text": [
            "Python 3.10.12\n"
          ]
        }
      ]
    },
    {
      "cell_type": "markdown",
      "source": [
        "### 2. Variables and Data Types in Python\n",
        "In Python, variables are containers for storing data values. Music is full of different types of data, from notes to rhythms. Let's explore how we can represent musical notes as strings and rhythms as numbers in Python. Strings are a kind of data type, it's a string of characters, per say. For example, the letter \"C\" is a single character but its still s string and we can store it in a variable \"note\". There are rules for variable name and we'll get to those later."
      ],
      "metadata": {
        "id": "0p-l4OxhM0EY"
      }
    },
    {
      "cell_type": "code",
      "source": [
        "note = \"C\"\n",
        "duration = 4  # A whole note\n",
        "print(note, duration)\n"
      ],
      "metadata": {
        "id": "GHE1CP_rMz5S"
      },
      "execution_count": null,
      "outputs": []
    },
    {
      "cell_type": "code",
      "source": [
        "note"
      ],
      "metadata": {
        "id": "mYsqluarOVg3"
      },
      "execution_count": null,
      "outputs": []
    },
    {
      "cell_type": "code",
      "source": [
        "duration"
      ],
      "metadata": {
        "id": "Rdk4Dz82OWDS"
      },
      "execution_count": null,
      "outputs": []
    },
    {
      "cell_type": "markdown",
      "source": [
        "## 3. Working with Lists\n",
        "A scale in music is a series of notes arranged in ascending or descending order. In Python, we can represent a scale using a list(objects). Let's create a C major scale and learn how to manipulate these lists."
      ],
      "metadata": {
        "id": "-C7_TlS6OgaQ"
      }
    },
    {
      "cell_type": "code",
      "source": [
        "scale = [\"C\", \"D\", \"E\", \"F\", \"G\", \"A\", \"B\"]\n",
        "# Accessing the first note\n",
        "print(scale[0]) # zero-based index"
      ],
      "metadata": {
        "colab": {
          "base_uri": "https://localhost:8080/"
        },
        "id": "-ID1WIIvOgsQ",
        "outputId": "1d1c3107-d35d-48a9-c1ac-ede32dedd401"
      },
      "execution_count": null,
      "outputs": [
        {
          "output_type": "stream",
          "name": "stdout",
          "text": [
            "C\n"
          ]
        }
      ]
    },
    {
      "cell_type": "code",
      "source": [
        "scale"
      ],
      "metadata": {
        "colab": {
          "base_uri": "https://localhost:8080/"
        },
        "id": "GXOguLFsPKUU",
        "outputId": "57178a97-2057-4a91-8cf2-3f523d8e668b"
      },
      "execution_count": null,
      "outputs": [
        {
          "output_type": "execute_result",
          "data": {
            "text/plain": [
              "['C', 'D', 'E', 'F', 'G', 'A', 'B']"
            ]
          },
          "metadata": {},
          "execution_count": 7
        }
      ]
    }
  ]
}